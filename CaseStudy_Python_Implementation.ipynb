{
 "cells": [
  {
   "cell_type": "markdown",
   "metadata": {},
   "source": [
    "# Explore data set"
   ]
  },
  {
   "cell_type": "code",
   "execution_count": 1,
   "metadata": {},
   "outputs": [
    {
     "name": "stdout",
     "output_type": "stream",
     "text": [
      "            Name  Country    Year    Revenue  Profit   Day pass  Week pass  \\\n",
      "0  UMA Workspace  Finland     NaN        NaN      NaN      20.0      199.0   \n",
      "1    Teho-osasto  Finland  2017.0    18000.0 -13000.0      25.0       60.0   \n",
      "2        Y_North  Finland  2013.0  1327000.0 -68000.0       NaN        NaN   \n",
      "3  Village Works  Finland  2008.0  1200000.0 -34000.0      20.0        NaN   \n",
      "4    NJETWORKING  Finland  2011.0    83000.0  -5000.0      15.0        NaN   \n",
      "\n",
      "   Month pass  \n",
      "0         NaN  \n",
      "1       199.0  \n",
      "2       248.0  \n",
      "3       150.0  \n",
      "4        99.0  \n"
     ]
    }
   ],
   "source": [
    "import pandas as pd\n",
    "import numpy as np\n",
    "\n",
    "coworking = pd.read_csv(\"Startup_Incubators_Accelerators_Startups_and_Coworking_places_in_Finland_Germany_and_France.csv\")\n",
    "print(coworking.head())"
   ]
  },
  {
   "cell_type": "code",
   "execution_count": 2,
   "metadata": {},
   "outputs": [
    {
     "name": "stdout",
     "output_type": "stream",
     "text": [
      "<class 'pandas.core.frame.DataFrame'>\n",
      "RangeIndex: 73 entries, 0 to 72\n",
      "Data columns (total 8 columns):\n",
      " #   Column      Non-Null Count  Dtype  \n",
      "---  ------      --------------  -----  \n",
      " 0   Name        73 non-null     object \n",
      " 1   Country     73 non-null     object \n",
      " 2   Year        18 non-null     float64\n",
      " 3   Revenue     16 non-null     float64\n",
      " 4   Profit      16 non-null     float64\n",
      " 5   Day pass    46 non-null     float64\n",
      " 6   Week pass   15 non-null     float64\n",
      " 7   Month pass  62 non-null     float64\n",
      "dtypes: float64(6), object(2)\n",
      "memory usage: 4.7+ KB\n",
      "None\n"
     ]
    }
   ],
   "source": [
    "print(coworking.info())"
   ]
  },
  {
   "cell_type": "markdown",
   "metadata": {},
   "source": [
    "The data set contains 73 entries, with a lot of Null values to be cleaned. There are 8 columns containing these information:\n",
    "-\tCountry: The country where coworking spaces locate\n",
    "-\tYear: Established year of coworking space\n",
    "-\tRevenue: Total turnover of coworking space in the most recent year (2018/2019/2020)\n",
    "-\tProfit: The profit the coworking space in the most recent year (2018/2019/2020)\n",
    "-\tDay pass: Price for a day ticket for 1 person\n",
    "-\tWeek pass: Price for a week ticket for 1 person\n",
    "-\tYear pass: Lowest price for a monthly ticket for 1 person\n",
    "\n",
    "# Clean data\n",
    "\n",
    "## Reshape the data frame"
   ]
  },
  {
   "cell_type": "code",
   "execution_count": 3,
   "metadata": {},
   "outputs": [
    {
     "name": "stdout",
     "output_type": "stream",
     "text": [
      "Index(['Name', 'Country', 'Year', 'Revenue', 'Profit ', 'Day pass',\n",
      "       'Week pass', 'Month pass'],\n",
      "      dtype='object')\n"
     ]
    }
   ],
   "source": [
    "print(coworking.columns)"
   ]
  },
  {
   "cell_type": "code",
   "execution_count": 4,
   "metadata": {
    "scrolled": true
   },
   "outputs": [
    {
     "name": "stdout",
     "output_type": "stream",
     "text": [
      "            Name  Country    Year  Category  Price\n",
      "0  UMA Workspace  Finland     NaN  Day pass   20.0\n",
      "1    Teho-osasto  Finland  2017.0  Day pass   25.0\n",
      "2        Y_North  Finland  2013.0  Day pass    NaN\n",
      "3  Village Works  Finland  2008.0  Day pass   20.0\n",
      "4    NJETWORKING  Finland  2011.0  Day pass   15.0\n"
     ]
    }
   ],
   "source": [
    "coworking = pd.melt(frame=coworking, \n",
    "                    id_vars =[\"Name\", \"Country\", \"Year\"],\n",
    "                    value_vars=[\"Day pass\", \"Week pass\", \"Month pass\",\"Revenue\", \"Profit \"],\n",
    "                    value_name=\"Price\",\n",
    "                    var_name=\"Category\")\n",
    "print(coworking.head())"
   ]
  },
  {
   "cell_type": "markdown",
   "metadata": {},
   "source": [
    "## Deal with duplicates\n",
    "\n",
    "Since I was the who put all the data into csv file, I have already eliminated and tried not to put duplicates. However, just to be certain, I will check again once more. The result, as expected shows no duplicates."
   ]
  },
  {
   "cell_type": "code",
   "execution_count": 5,
   "metadata": {},
   "outputs": [
    {
     "name": "stdout",
     "output_type": "stream",
     "text": [
      "False    365\n",
      "dtype: int64\n"
     ]
    }
   ],
   "source": [
    "duplicates = coworking.duplicated()\n",
    "print(duplicates.value_counts())"
   ]
  },
  {
   "cell_type": "markdown",
   "metadata": {},
   "source": [
    "## Deal with Null values\n",
    "\n",
    "In this scenerio, since column \"Year\", \"Profit\", \"Revenue\" only applied to Finnnish coworking spaces, I will ignore these 3 columns for French and German coworking spaces for further analysis. First, let's deal with these 3 columns for Finnish coworking spaces."
   ]
  },
  {
   "cell_type": "code",
   "execution_count": 6,
   "metadata": {},
   "outputs": [
    {
     "name": "stdout",
     "output_type": "stream",
     "text": [
      "[  nan 2017. 2013. 2008. 2011. 2018.   nan 2019. 2015. 2012. 2011. 2003.\n",
      " 1993. 2016. 2010. 1996.   nan   nan 1995. 2015.   nan 2017. 2013. 2008.\n",
      " 2011. 2018.   nan 2019. 2015. 2012. 2011. 2003. 1993. 2016. 2010. 1996.\n",
      "   nan   nan 1995. 2015.   nan 2017. 2013. 2008. 2011. 2018.   nan 2019.\n",
      " 2015. 2012. 2011. 2003. 1993. 2016. 2010. 1996.   nan   nan 1995. 2015.\n",
      "   nan 2017. 2013. 2008. 2011. 2018.   nan 2019. 2015. 2012. 2011. 2003.\n",
      " 1993. 2016. 2010. 1996.   nan   nan 1995. 2015.   nan 2017. 2013. 2008.\n",
      " 2011. 2018.   nan 2019. 2015. 2012. 2011. 2003. 1993. 2016. 2010. 1996.\n",
      "   nan   nan 1995. 2015.]\n",
      "20\n"
     ]
    }
   ],
   "source": [
    "# split dataframe to each country category\n",
    "Finnish = coworking[coworking.Country == \"Finland\"]\n",
    "French = coworking[coworking.Country == \"France\"]\n",
    "German = coworking[coworking.Country == \"Germany \"]\n",
    "\n",
    "# start up with Year, Revenue, Profit for Finnish dataframe\n",
    "print(Finnish.Year.values)\n",
    "print(Finnish.Year.isnull().sum())"
   ]
  },
  {
   "cell_type": "code",
   "execution_count": 7,
   "metadata": {},
   "outputs": [
    {
     "name": "stdout",
     "output_type": "stream",
     "text": [
      "100\n",
      "36\n"
     ]
    }
   ],
   "source": [
    "print(len(Finnish.Price))\n",
    "print(Finnish.Price.isnull().sum())"
   ]
  },
  {
   "cell_type": "code",
   "execution_count": 8,
   "metadata": {},
   "outputs": [
    {
     "name": "stdout",
     "output_type": "stream",
     "text": [
      "                    Name  Country  Year    Category  Price\n",
      "79   Coworking Myyr York  Finland   NaN   Week pass    NaN\n",
      "89              Luovasti  Finland   NaN   Week pass    NaN\n",
      "90        HUB Kukkiatalo  Finland   NaN   Week pass    NaN\n",
      "146        UMA Workspace  Finland   NaN  Month pass    NaN\n",
      "219        UMA Workspace  Finland   NaN     Revenue    NaN\n",
      "225  Coworking Myyr York  Finland   NaN     Revenue    NaN\n",
      "235             Luovasti  Finland   NaN     Revenue    NaN\n",
      "236       HUB Kukkiatalo  Finland   NaN     Revenue    NaN\n",
      "292        UMA Workspace  Finland   NaN     Profit     NaN\n",
      "298  Coworking Myyr York  Finland   NaN     Profit     NaN\n",
      "308             Luovasti  Finland   NaN     Profit     NaN\n",
      "309       HUB Kukkiatalo  Finland   NaN     Profit     NaN\n"
     ]
    }
   ],
   "source": [
    "print(Finnish[(Finnish.Price.isnull()) & (Finnish.Year.isnull())])"
   ]
  },
  {
   "cell_type": "code",
   "execution_count": 9,
   "metadata": {},
   "outputs": [],
   "source": [
    "Finnish = Finnish.drop([79,89,90,146,219,225,235,236,292,298,308,309])"
   ]
  },
  {
   "cell_type": "code",
   "execution_count": 10,
   "metadata": {},
   "outputs": [
    {
     "name": "stdout",
     "output_type": "stream",
     "text": [
      "88\n",
      "24\n"
     ]
    }
   ],
   "source": [
    "print(len(Finnish.Price))\n",
    "print(Finnish.Price.isnull().sum())"
   ]
  },
  {
   "cell_type": "code",
   "execution_count": 11,
   "metadata": {},
   "outputs": [
    {
     "name": "stdout",
     "output_type": "stream",
     "text": [
      "8\n"
     ]
    }
   ],
   "source": [
    "print(Finnish.Year.isnull().sum())"
   ]
  },
  {
   "cell_type": "markdown",
   "metadata": {},
   "source": [
    "There are no 8 null values for Year column (used to be 20) and 24 null values for Price column (used to be 36). I will drop these Year null values, but fill in null values in Price column with mean values for each category: Day pass, Week pass and Month pass. However, for limited time, I will delete all NaN values for the ease of analysis."
   ]
  },
  {
   "cell_type": "code",
   "execution_count": 16,
   "metadata": {},
   "outputs": [
    {
     "name": "stdout",
     "output_type": "stream",
     "text": [
      "                       Name  Country    Year    Category       Price\n",
      "1               Teho-osasto  Finland  2017.0    Day pass        25.0\n",
      "3             Village Works  Finland  2008.0    Day pass        20.0\n",
      "4               NJETWORKING  Finland  2011.0    Day pass        15.0\n",
      "5           Wonderland Work  Finland  2018.0    Day pass        15.0\n",
      "10   MOW Mothership of Work  Finland  2011.0    Day pass        25.0\n",
      "11           CoSpace Porvoo  Finland  2003.0    Day pass        20.0\n",
      "13                  DOOROOM  Finland  2016.0    Day pass        25.0\n",
      "15          Mesta Coworking  Finland  1996.0    Day pass        16.0\n",
      "74              Teho-osasto  Finland  2017.0   Week pass        60.0\n",
      "84           CoSpace Porvoo  Finland  2003.0   Week pass        96.0\n",
      "88          Mesta Coworking  Finland  1996.0   Week pass        65.0\n",
      "147             Teho-osasto  Finland  2017.0  Month pass       199.0\n",
      "148                 Y_North  Finland  2013.0  Month pass       248.0\n",
      "149           Village Works  Finland  2008.0  Month pass       150.0\n",
      "150             NJETWORKING  Finland  2011.0  Month pass        99.0\n",
      "151         Wonderland Work  Finland  2018.0  Month pass       219.0\n",
      "155            Kenno Lounge  Finland  2012.0  Month pass       600.0\n",
      "156  MOW Mothership of Work  Finland  2011.0  Month pass       330.0\n",
      "157          CoSpace Porvoo  Finland  2003.0  Month pass       289.0\n",
      "158              Urban Mill  Finland  1993.0  Month pass       150.0\n",
      "159                 DOOROOM  Finland  2016.0  Month pass       135.0\n",
      "160           Werstas Turku  Finland  2010.0  Month pass       190.0\n",
      "161         Mesta Coworking  Finland  1996.0  Month pass       150.0\n",
      "165        Innovation House  Finland  2015.0  Month pass       200.0\n",
      "220             Teho-osasto  Finland  2017.0     Revenue     18000.0\n",
      "221                 Y_North  Finland  2013.0     Revenue   1327000.0\n",
      "222           Village Works  Finland  2008.0     Revenue   1200000.0\n",
      "223             NJETWORKING  Finland  2011.0     Revenue     83000.0\n",
      "224         Wonderland Work  Finland  2018.0     Revenue     47000.0\n",
      "226         Technopolis Oyj  Finland  2019.0     Revenue  56300000.0\n",
      "227  Helsinki Think Company  Finland  2015.0     Revenue   1200000.0\n",
      "228            Kenno Lounge  Finland  2012.0     Revenue    680000.0\n",
      "229  MOW Mothership of Work  Finland  2011.0     Revenue   1041000.0\n",
      "230          CoSpace Porvoo  Finland  2003.0     Revenue    574000.0\n",
      "231              Urban Mill  Finland  1993.0     Revenue    102000.0\n",
      "232                 DOOROOM  Finland  2016.0     Revenue    114000.0\n",
      "233           Werstas Turku  Finland  2010.0     Revenue  27500000.0\n",
      "234         Mesta Coworking  Finland  1996.0     Revenue     24000.0\n",
      "237                   Regus  Finland  1995.0     Revenue   2600000.0\n",
      "238        Innovation House  Finland  2015.0     Revenue   1100000.0\n",
      "293             Teho-osasto  Finland  2017.0     Profit     -13000.0\n",
      "294                 Y_North  Finland  2013.0     Profit     -68000.0\n",
      "295           Village Works  Finland  2008.0     Profit     -34000.0\n",
      "296             NJETWORKING  Finland  2011.0     Profit      -5000.0\n",
      "297         Wonderland Work  Finland  2018.0     Profit          0.0\n",
      "299         Technopolis Oyj  Finland  2019.0     Profit       7800.0\n",
      "300  Helsinki Think Company  Finland  2015.0     Profit      79000.0\n",
      "301            Kenno Lounge  Finland  2012.0     Profit      78000.0\n",
      "302  MOW Mothership of Work  Finland  2011.0     Profit     -10000.0\n",
      "303          CoSpace Porvoo  Finland  2003.0     Profit     -44000.0\n",
      "304              Urban Mill  Finland  1993.0     Profit      14000.0\n",
      "305                 DOOROOM  Finland  2016.0     Profit      10000.0\n",
      "306           Werstas Turku  Finland  2010.0     Profit          0.0\n",
      "307         Mesta Coworking  Finland  1996.0     Profit      -1000.0\n",
      "310                   Regus  Finland  1995.0     Profit          0.0\n",
      "311        Innovation House  Finland  2015.0     Profit      67000.0\n"
     ]
    }
   ],
   "source": [
    "Finnish = Finnish.dropna(subset=[\"Year\", \"Price\"])\n",
    "print(Finnish)"
   ]
  },
  {
   "cell_type": "code",
   "execution_count": 15,
   "metadata": {},
   "outputs": [
    {
     "name": "stdout",
     "output_type": "stream",
     "text": [
      "0\n"
     ]
    }
   ],
   "source": [
    "print(Finnish.Price.isnull().sum())"
   ]
  },
  {
   "cell_type": "markdown",
   "metadata": {},
   "source": [
    "The Finnish dataframe is now available for analysis. The same approach will be then performed on French and German dataframes."
   ]
  },
  {
   "cell_type": "code",
   "execution_count": 20,
   "metadata": {},
   "outputs": [],
   "source": [
    "day_mean = Finnish[(Finnish.Category == \"Day pass\") & (Finnish.Price.isnull()==False)].Price.mean()\n",
    "month_mean =Finnish[(Finnish.Category == \"Month pass\") & (Finnish.Price.isnull()==False)].Price.mean()\n",
    "week_mean = Finnish[(Finnish.Category == \"Week pass\") & (Finnish.Price.isnull()==False)].Price.mean()"
   ]
  },
  {
   "cell_type": "code",
   "execution_count": 27,
   "metadata": {},
   "outputs": [],
   "source": [
    "German = German.dropna(subset=[\"Price\"])\n",
    "G_day_mean = German[(German.Category == \"Day pass\") & (German.Price.isnull()==False)].Price.mean()\n",
    "G_week_mean = German[(German.Category == \"Week pass\") & (German.Price.isnull()==False)].Price.mean()\n",
    "G_month_mean = German[(German.Category == \"Month pass\") & (German.Price.isnull()==False)].Price.mean()"
   ]
  },
  {
   "cell_type": "code",
   "execution_count": 26,
   "metadata": {},
   "outputs": [],
   "source": [
    "French = French.dropna(subset=[\"Price\"])\n",
    "F_day_mean = French[(French.Category == \"Day pass\") & (French.Price.isnull()==False)].Price.mean()\n",
    "F_week_mean = French[(French.Category == \"Week pass\") & (French.Price.isnull()==False)].Price.mean()\n",
    "F_month_mean = French[(French.Category == \"Month pass\") & (French.Price.isnull()==False)].Price.mean()"
   ]
  },
  {
   "cell_type": "markdown",
   "metadata": {},
   "source": [
    "# Data analysis\n",
    "\n",
    "\n",
    "## Mean price for a day pass, weekly pass and monthly pass for 1 person in 3 countries"
   ]
  },
  {
   "cell_type": "code",
   "execution_count": 28,
   "metadata": {},
   "outputs": [
    {
     "name": "stdout",
     "output_type": "stream",
     "text": [
      "20.125 227.6153846153846 73.66666666666667\n"
     ]
    }
   ],
   "source": [
    "print(day_mean, month_mean, week_mean)"
   ]
  },
  {
   "cell_type": "code",
   "execution_count": 29,
   "metadata": {},
   "outputs": [
    {
     "name": "stdout",
     "output_type": "stream",
     "text": [
      "24.666666666666668 104.16666666666667 282.7391304347826\n"
     ]
    }
   ],
   "source": [
    "print(F_day_mean, F_week_mean, F_month_mean)"
   ]
  },
  {
   "cell_type": "code",
   "execution_count": 30,
   "metadata": {},
   "outputs": [
    {
     "name": "stdout",
     "output_type": "stream",
     "text": [
      "19.125 107.6 241.17391304347825\n"
     ]
    }
   ],
   "source": [
    "print(G_day_mean, G_week_mean, G_month_mean)"
   ]
  },
  {
   "cell_type": "code",
   "execution_count": 33,
   "metadata": {},
   "outputs": [
    {
     "name": "stdout",
     "output_type": "stream",
     "text": [
      "                      Name  Country    Year  Category  Price\n",
      "1              Teho-osasto  Finland  2017.0  Day pass   25.0\n",
      "3            Village Works  Finland  2008.0  Day pass   20.0\n",
      "4              NJETWORKING  Finland  2011.0  Day pass   15.0\n",
      "5          Wonderland Work  Finland  2018.0  Day pass   15.0\n",
      "10  MOW Mothership of Work  Finland  2011.0  Day pass   25.0\n"
     ]
    }
   ],
   "source": [
    "clean_data = pd.concat([Finnish, French, German])\n",
    "print(clean_data.head())"
   ]
  },
  {
   "cell_type": "code",
   "execution_count": 32,
   "metadata": {},
   "outputs": [
    {
     "name": "stdout",
     "output_type": "stream",
     "text": [
      "    Type     Finland     Germany      France\n",
      "0    Day   20.125000   19.125000   24.666667\n",
      "1   Week   73.666667  107.600000  104.166667\n",
      "2  Month  227.615385  241.173913  282.739130\n"
     ]
    }
   ],
   "source": [
    "mean_df = pd.DataFrame({\"Type\": [\"Day\", \"Week\", \"Month\"], \n",
    "                       \"Finland\": [day_mean, week_mean, month_mean], \n",
    "                       \"Germany\": [G_day_mean, G_week_mean, G_month_mean],\n",
    "                       \"France\": [F_day_mean, F_week_mean, F_month_mean]})\n",
    "print(mean_df)"
   ]
  },
  {
   "cell_type": "markdown",
   "metadata": {},
   "source": [
    "## Top 10 organizations in terms of cheapest day pass for each countries"
   ]
  },
  {
   "cell_type": "code",
   "execution_count": 41,
   "metadata": {},
   "outputs": [
    {
     "name": "stdout",
     "output_type": "stream",
     "text": [
      "   index             Name  Country    Year  Category  Price\n",
      "0      4      NJETWORKING  Finland  2011.0  Day pass   15.0\n",
      "1      5  Wonderland Work  Finland  2018.0  Day pass   15.0\n",
      "2     15  Mesta Coworking  Finland  1996.0  Day pass   16.0\n",
      "3      3    Village Works  Finland  2008.0  Day pass   20.0\n",
      "4     11   CoSpace Porvoo  Finland  2003.0  Day pass   20.0\n"
     ]
    }
   ],
   "source": [
    "Finnish_top_5_day = Finnish[Finnish.Category == \"Day pass\"].sort_values(by=['Price'])[:5].reset_index()\n",
    "print(Finnish_top_5_day)"
   ]
  },
  {
   "cell_type": "code",
   "execution_count": 39,
   "metadata": {},
   "outputs": [
    {
     "name": "stdout",
     "output_type": "stream",
     "text": [
      "   index                           Name   Country  Year  Category  Price\n",
      "0     33  HeartSpace Coworking & Coffee  Germany    NaN  Day pass    9.0\n",
      "1     42                       Zammwerk  Germany    NaN  Day pass   12.0\n",
      "2     30                Impact Hub Ruhr  Germany    NaN  Day pass   15.0\n",
      "3     34                        THE 9TH  Germany    NaN  Day pass   15.0\n",
      "4     39                    skalitzer33  Germany    NaN  Day pass   15.0\n",
      "5     31               Betahaus Hamburg  Germany    NaN  Day pass   17.0\n",
      "6     37                       b+office  Germany    NaN  Day pass   17.0\n",
      "7     32                      Weserland  Germany    NaN  Day pass   18.0\n",
      "8     29                BASE Co-Working  Germany    NaN  Day pass   20.0\n",
      "9     36                          Werk1  Germany    NaN  Day pass   20.0\n"
     ]
    }
   ],
   "source": [
    "German_top_10_day = German[German.Category == \"Day pass\"].sort_values(by=['Price'])[:10].reset_index()\n",
    "print(German_top_10_day)"
   ]
  },
  {
   "cell_type": "code",
   "execution_count": 42,
   "metadata": {},
   "outputs": [
    {
     "name": "stdout",
     "output_type": "stream",
     "text": [
      "   index                       Name Country  Year  Category  Price\n",
      "0     59                     Le 400  France   NaN  Day pass    9.0\n",
      "1     60                     Morpho  France   NaN  Day pass   15.0\n",
      "2     55          Startup Marseille  France   NaN  Day pass   15.0\n",
      "3     61               Le Bureau 68  France   NaN  Day pass   18.0\n",
      "4     66                 Living Lab  France   NaN  Day pass   20.0\n",
      "5     64               Globe Worker  France   NaN  Day pass   20.0\n",
      "6     72  WOMA fabrique de quartier  France   NaN  Day pass   20.0\n",
      "7     71     Le Loft Coworkinrennes  France   NaN  Day pass   24.0\n",
      "8     49                COSY CORNER  France   NaN  Day pass   24.0\n",
      "9     57                   HarryCow  France   NaN  Day pass   25.0\n"
     ]
    }
   ],
   "source": [
    "French_top_10_day = French[French.Category == \"Day pass\"].sort_values(by=['Price'])[:10].reset_index()\n",
    "print(French_top_10_day)"
   ]
  },
  {
   "cell_type": "markdown",
   "metadata": {},
   "source": [
    "## Top 10 in terms of cheapest month pass"
   ]
  },
  {
   "cell_type": "code",
   "execution_count": 44,
   "metadata": {
    "scrolled": true
   },
   "outputs": [
    {
     "name": "stdout",
     "output_type": "stream",
     "text": [
      "   index             Name  Country    Year    Category  Price\n",
      "0    150      NJETWORKING  Finland  2011.0  Month pass   99.0\n",
      "1    159          DOOROOM  Finland  2016.0  Month pass  135.0\n",
      "2    149    Village Works  Finland  2008.0  Month pass  150.0\n",
      "3    158       Urban Mill  Finland  1993.0  Month pass  150.0\n",
      "4    161  Mesta Coworking  Finland  1996.0  Month pass  150.0\n"
     ]
    }
   ],
   "source": [
    "Finnish_top_5_month = Finnish[Finnish.Category == \"Month pass\"].sort_values(by=['Price'])[:5].reset_index()\n",
    "print(Finnish_top_5_month)\n"
   ]
  },
  {
   "cell_type": "code",
   "execution_count": 45,
   "metadata": {
    "scrolled": true
   },
   "outputs": [
    {
     "name": "stdout",
     "output_type": "stream",
     "text": [
      "   index                           Name   Country  Year    Category  Price\n",
      "0    174              Tuesday coworking  Germany    NaN  Month pass   85.0\n",
      "1    179  HeartSpace Coworking & Coffee  Germany    NaN  Month pass   85.0\n",
      "2    192           Thinkfarm Eberswalde  Germany    NaN  Month pass   90.0\n",
      "3    176                Impact Hub Ruhr  Germany    NaN  Month pass   90.0\n",
      "4    177               Betahaus Hamburg  Germany    NaN  Month pass   99.0\n",
      "5    180                        THE 9TH  Germany    NaN  Month pass  120.0\n",
      "6    188                       Zammwerk  Germany    NaN  Month pass  150.0\n",
      "7    178                      Weserland  Germany    NaN  Month pass  160.0\n",
      "8    187           Basislager Coworking  Germany    NaN  Month pass  190.0\n",
      "9    182                          Werk1  Germany    NaN  Month pass  190.0\n"
     ]
    }
   ],
   "source": [
    "German_top_10_month = German[German.Category == \"Month pass\"].sort_values(by=['Price'])[:10].reset_index()\n",
    "print(German_top_10_month)"
   ]
  },
  {
   "cell_type": "code",
   "execution_count": 46,
   "metadata": {},
   "outputs": [
    {
     "name": "stdout",
     "output_type": "stream",
     "text": [
      "   index                    Name Country  Year    Category  Price\n",
      "0    217  Le Loft Coworkinrennes  France   NaN  Month pass  115.0\n",
      "1    205                  Le 400  France   NaN  Month pass  120.0\n",
      "2    201       Startup Marseille  France   NaN  Month pass  150.0\n",
      "3    200      Espace Esperluette  France   NaN  Month pass  160.0\n",
      "4    214        La Ruche Denfert  France   NaN  Month pass  170.0\n",
      "5    194         Newton Offices   France   NaN  Month pass  179.0\n",
      "6    206                  Morpho  France   NaN  Month pass  200.0\n",
      "7    210            Globe Worker  France   NaN  Month pass  225.0\n",
      "8    202       Le Pele coworking  France   NaN  Month pass  225.0\n",
      "9    209     La Cordee Coworking  France   NaN  Month pass  249.0\n"
     ]
    }
   ],
   "source": [
    "French_top_10_month = French[French.Category == \"Month pass\"].sort_values(by=['Price'])[:10].reset_index()\n",
    "print(French_top_10_month)"
   ]
  },
  {
   "cell_type": "markdown",
   "metadata": {},
   "source": [
    "## Top 10 in terms of cheapest week pass"
   ]
  },
  {
   "cell_type": "code",
   "execution_count": 53,
   "metadata": {
    "scrolled": true
   },
   "outputs": [
    {
     "name": "stdout",
     "output_type": "stream",
     "text": [
      "   index             Name  Country    Year   Category  Price\n",
      "0     74      Teho-osasto  Finland  2017.0  Week pass   60.0\n",
      "1     88  Mesta Coworking  Finland  1996.0  Week pass   65.0\n",
      "2     84   CoSpace Porvoo  Finland  2003.0  Week pass   96.0\n"
     ]
    }
   ],
   "source": [
    "Finnish_top_week = Finnish[Finnish.Category == \"Week pass\"].sort_values(by=['Price'])[:5].reset_index()\n",
    "print(Finnish_top_week)"
   ]
  },
  {
   "cell_type": "code",
   "execution_count": 54,
   "metadata": {
    "scrolled": true
   },
   "outputs": [
    {
     "name": "stdout",
     "output_type": "stream",
     "text": [
      "   index                           Name   Country    Year   Category  Price\n",
      "0    106  HeartSpace Coworking & Coffee  Germany      NaN  Week pass   52.0\n",
      "1    112                    skalitzer33  Germany      NaN  Week pass   70.0\n",
      "2    111                       2Redline  Germany      NaN  Week pass  125.0\n",
      "3     94                Regus Berlin P1  Germany   1995.0  Week pass  141.0\n",
      "4     93                Lakeview Office  Germany   2018.0  Week pass  150.0\n"
     ]
    }
   ],
   "source": [
    "German_top_week = German[German.Category == \"Week pass\"].sort_values(by=['Price'])[:10].reset_index()\n",
    "print(German_top_week)"
   ]
  },
  {
   "cell_type": "code",
   "execution_count": 56,
   "metadata": {},
   "outputs": [
    {
     "name": "stdout",
     "output_type": "stream",
     "text": [
      "   index                 Name Country  Year   Category  Price\n",
      "0    133               Morpho  France   NaN  Week pass   75.0\n",
      "1    139           Living Lab  France   NaN  Week pass   90.0\n",
      "2    140               Wetail  France   NaN  Week pass   90.0\n",
      "3    137         Globe Worker  France   NaN  Week pass  110.0\n",
      "4    125             Paradigm  France   NaN  Week pass  115.0\n",
      "5    136  La Cordee Coworking  France   NaN  Week pass  145.0\n"
     ]
    }
   ],
   "source": [
    "French_top_week = French[French.Category == \"Week pass\"].sort_values(by=['Price'])[:10].reset_index()\n",
    "print(French_top_week)"
   ]
  },
  {
   "cell_type": "markdown",
   "metadata": {},
   "source": [
    "## Finnish best co-working spaces"
   ]
  },
  {
   "cell_type": "code",
   "execution_count": 104,
   "metadata": {
    "scrolled": true
   },
   "outputs": [
    {
     "name": "stdout",
     "output_type": "stream",
     "text": [
      "   index                    Name  Country    Year Category       Price  big?\n",
      "0    229  MOW Mothership of Work  Finland  2011.0  Revenue   1041000.0  True\n",
      "1    238        Innovation House  Finland  2015.0  Revenue   1100000.0  True\n",
      "2    222           Village Works  Finland  2008.0  Revenue   1200000.0  True\n",
      "3    227  Helsinki Think Company  Finland  2015.0  Revenue   1200000.0  True\n",
      "4    221                 Y_North  Finland  2013.0  Revenue   1327000.0  True\n",
      "5    237                   Regus  Finland  1995.0  Revenue   2600000.0  True\n",
      "6    233           Werstas Turku  Finland  2010.0  Revenue  27500000.0  True\n",
      "7    226         Technopolis Oyj  Finland  2019.0  Revenue  56300000.0  True\n"
     ]
    }
   ],
   "source": [
    "Finnish[\"big?\"] = Finnish[Finnish.Category == 'Revenue'].Price > 1000000\n",
    "Finnish_top = Finnish[Finnish[\"big?\"] == True].sort_values(by=\"Price\").reset_index()\n",
    "print(Finnish_top)"
   ]
  },
  {
   "cell_type": "markdown",
   "metadata": {},
   "source": [
    "# Data Visualization\n",
    "\n",
    "## Top cheapest day pass"
   ]
  },
  {
   "cell_type": "code",
   "execution_count": 151,
   "metadata": {
    "scrolled": true
   },
   "outputs": [
    {
     "data": {
      "text/plain": [
       "<matplotlib.legend.Legend at 0x223b4c5b6d0>"
      ]
     },
     "execution_count": 151,
     "metadata": {},
     "output_type": "execute_result"
    },
    {
     "data": {
      "image/png": "[encoded data removed]",
      "text/plain": [
       "<Figure size 864x432 with 1 Axes>"
      ]
     },
     "metadata": {
      "needs_background": "light"
     },
     "output_type": "display_data"
    }
   ],
   "source": [
    "import matplotlib.pyplot as plt\n",
    "import seaborn as sns\n",
    "%matplotlib inline\n",
    "\n",
    "fig = plt.figure(figsize=(12,6))\n",
    "plt.scatter(Finnish_top_5_day.Name, Finnish_top_5_day.Price, marker=\"o\", color=\"black\", label = \"Finland\")\n",
    "plt.scatter(German_top_10_day.Name, German_top_10_day.Price, marker =\"D\", color=\"red\", label = \"German\")\n",
    "plt.scatter(French_top_10_day.Name, French_top_10_day.Price, marker =\"X\", color=\"blue\", label = \"French\")\n",
    "plt.xticks(rotation=80)\n",
    "sns.despine(top=True, right=True, left=True, bottom=True)\n",
    "plt.tick_params(bottom=False, top=False, left=False, right=False)\n",
    "plt.title(\"Top cheapest pass day\")\n",
    "plt.legend()\n"
   ]
  },
  {
   "cell_type": "markdown",
   "metadata": {},
   "source": [
    "## Top cheapest week pass"
   ]
  },
  {
   "cell_type": "code",
   "execution_count": 153,
   "metadata": {},
   "outputs": [
    {
     "data": {
      "text/plain": [
       "<matplotlib.legend.Legend at 0x223b39f0700>"
      ]
     },
     "execution_count": 153,
     "metadata": {},
     "output_type": "execute_result"
    },
    {
     "data": {
      "image/png": "[encoded data removed]",
      "text/plain": [
       "<Figure size 864x432 with 1 Axes>"
      ]
     },
     "metadata": {
      "needs_background": "light"
     },
     "output_type": "display_data"
    }
   ],
   "source": [
    "fig = plt.figure(figsize=(12,6))\n",
    "plt.scatter(Finnish_top_week.Name, Finnish_top_week.Price, marker=\"o\", color=\"black\", label = \"Finland\")\n",
    "plt.scatter(German_top_week.Name, German_top_week.Price, marker =\"D\", color=\"red\", label = \"German\")\n",
    "plt.scatter(French_top_week.Name, French_top_week.Price, marker =\"X\", color=\"blue\", label = \"French\")\n",
    "plt.xticks(rotation=80)\n",
    "sns.despine(top=True, right=True, left=True, bottom=True)\n",
    "plt.tick_params(bottom=False, top=False, left=False, right=False)\n",
    "plt.title(\"Top cheapest week pass\")\n",
    "plt.legend()\n"
   ]
  },
  {
   "cell_type": "markdown",
   "metadata": {},
   "source": [
    "## Top cheapest month pass"
   ]
  },
  {
   "cell_type": "code",
   "execution_count": 154,
   "metadata": {},
   "outputs": [
    {
     "data": {
      "text/plain": [
       "<matplotlib.legend.Legend at 0x223b4b7b7c0>"
      ]
     },
     "execution_count": 154,
     "metadata": {},
     "output_type": "execute_result"
    },
    {
     "data": {
      "image/png": "[encoded data removed]",
      "text/plain": [
       "<Figure size 864x432 with 1 Axes>"
      ]
     },
     "metadata": {
      "needs_background": "light"
     },
     "output_type": "display_data"
    }
   ],
   "source": [
    "fig = plt.figure(figsize=(12,6))\n",
    "plt.scatter(Finnish_top_5_month.Name, Finnish_top_5_month.Price, marker=\"o\", color=\"black\", label = \"Finland\")\n",
    "plt.scatter(German_top_10_month.Name, German_top_10_month.Price, marker =\"D\", color=\"red\", label = \"German\")\n",
    "plt.scatter(French_top_10_month.Name, French_top_10_month.Price, marker =\"X\", color=\"blue\", label = \"French\")\n",
    "plt.xticks(rotation=80)\n",
    "sns.despine(top=True, right=True, left=True, bottom=True)\n",
    "plt.tick_params(bottom=False, top=False, left=False, right=False)\n",
    "plt.title(\"Top cheapest month pass\")\n",
    "plt.legend()\n"
   ]
  }
 ],
 "metadata": {
  "kernelspec": {
   "display_name": "Python 3",
   "language": "python",
   "name": "python3"
  },
  "language_info": {
   "codemirror_mode": {
    "name": "ipython",
    "version": 3
   },
   "file_extension": ".py",
   "mimetype": "text/x-python",
   "name": "python",
   "nbconvert_exporter": "python",
   "pygments_lexer": "ipython3",
   "version": "3.8.3"
  }
 },
 "nbformat": 4,
 "nbformat_minor": 4
}
